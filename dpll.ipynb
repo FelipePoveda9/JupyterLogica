{
 "cells": [
  {
   "cell_type": "markdown",
   "metadata": {},
   "source": [
    "<table>\n",
    "    <tr>\n",
    "        <td><img src=\"./img/Macc.png\" width=\"auto\"/></td>\n",
    "        <td>\n",
    "            <table><tr>\n",
    "            <h1 style=\"color:blue;text-align:center\">Lógica para Ciencias de la Computación</h1></td>\n",
    "            </tr></table>   \n",
    "        <td>&nbsp;</td>\n",
    "        <td>\n",
    "            <table><tr>\n",
    "            <tp><p style=\"font-size:150%;text-align:center\">Taller</p></tp>\n",
    "            <tp><p style=\"font-size:150%;text-align:center\">Algoritmo DPLL</p></tp>\n",
    "            </tr></table>\n",
    "        </td>\n",
    "    </tr>\n",
    "</table>\n",
    "\n",
    "---"
   ]
  },
  {
   "cell_type": "markdown",
   "metadata": {},
   "source": [
    "# Objetivo <a class=\"anchor\" id=\"inicio\"></a>\n",
    "\n",
    "Hasta este punto del curso hemos visto cómo resolver problemas, representando una situación mediante una fórmula de la lógica proposicional y buscando un modelo para ella. También vimos que los SATsolver que hemos desarrollado hasta este momento no son eficientes, toda vez que no pueden dar respuesta al problema de la rejilla con un tamaño $3\\times 3$. En efecto, tanto SATtabla como SATtableaux agotan los recursos del computador y no logran encontrar un modelo.\n",
    "\n",
    "En clase acabamos de ver el algoritmo DPLL para encontrar un modelo $I$ para una fórmula $S$ en forma clausal. En este notebook implementaremos el algoritmo DPLL en Python.\n",
    "\n",
    "Desarrollaremos la explicación mediante las siguientes secciones."
   ]
  },
  {
   "cell_type": "markdown",
   "metadata": {},
   "source": [
    "# Secciones\n",
    "\n",
    "1. [Funciones auxiliares](#aux)\n",
    "2. [Unit propagation](#unit)\n",
    "3. [DPLL](#dpll)\n",
    "4. [Solución de problemas](#sat)\n"
   ]
  },
  {
   "cell_type": "markdown",
   "metadata": {},
   "source": [
    "# Funciones auxiliares <a class=\"anchor\" id=\"aux\"></a>\n",
    "\n",
    "([Volver al inicio](#inicio))\n",
    "\n",
    "Para poder implementar el algoritmo DPLL de manera eficiente requerimos algunas funciones auxiliares:\n",
    "\n",
    "* `complemento()`: Sea $\\ell$ un literal. Se define \n",
    "\n",
    "`complemento`$(\\ell)=\\begin{cases}\n",
    "\\overline{p},&\\mbox { si }\\ell=p\\mbox{ para algún }p\\\\ \n",
    "p,&\\mbox{ si }\\ell=\\overline{p}\\mbox{ para algún }p\\\\\n",
    "\\end{cases}$\n",
    "\n",
    "* `eliminar_literal()`: Toma un conjunto de cláusulas $S$ y un literal $\\ell$ y devuelve el conjunto `S'` tal que:\n",
    "\n",
    "    - Se ha eliminado $C\\,{\\in}\\, S$ si $\\ell\\,{\\in}\\, C$,\n",
    "    - Se ha eliminado $\\ell^c$ de las demás cláusulas.\n",
    "\n",
    "* `extender_I()`: Toma un diccionario $I$ y un literal $\\ell$ y modifica el diccionario de manera tal que $\\ell$.valor($I$)=`True`.\n",
    "\n",
    "Implementaremos estas funciones una por una."
   ]
  },
  {
   "cell_type": "markdown",
   "metadata": {},
   "source": [
    "**Ejercicio 1:**\n",
    "\n",
    "Implemente la función `complemento()`."
   ]
  },
  {
   "cell_type": "code",
   "execution_count": 370,
   "metadata": {},
   "outputs": [],
   "source": [
    "def complemento(l):\n",
    "    if l.startswith('-'):\n",
    "        return l[1:]  # Retorna el literal positivo\n",
    "    else:\n",
    "        return '-' + l  # Retorna el literal negativo"
   ]
  },
  {
   "cell_type": "markdown",
   "metadata": {},
   "source": [
    "---"
   ]
  },
  {
   "cell_type": "markdown",
   "metadata": {},
   "source": [
    "Presentamos las otras dos funciones auxiliares. Trate de comprender el código y el uso de la definición de listas por comprensión y listas anidadas. Estas líneas no sólamente son económicas en términos de espacio, sino que son muchísimo más eficientes que el uso de estructuras de control `while` y `for`."
   ]
  },
  {
   "cell_type": "code",
   "execution_count": 371,
   "metadata": {},
   "outputs": [],
   "source": [
    "def eliminar_literal(S, l):\n",
    "    lc = complemento(l)\n",
    "    S1 = [c for c in S if l not in c]\n",
    "    return [[p for p in c if p != lc] for c in S1]\n",
    "\n",
    "def extender_I(I, l):\n",
    "    I1 = {k:I[k] for k in I if k != l}\n",
    "    if '-' in l:\n",
    "        I1[l[1:]] = False\n",
    "    else:\n",
    "        I1[l] = True\n",
    "    return I1"
   ]
  },
  {
   "cell_type": "markdown",
   "metadata": {},
   "source": [
    "Podemos comprobar el funcionamiento de estas funciones con el ejemplo que usamos en las diapositivas."
   ]
  },
  {
   "cell_type": "code",
   "execution_count": 372,
   "metadata": {},
   "outputs": [
    {
     "data": {
      "text/plain": [
       "[['p', '-q'], ['-p']]"
      ]
     },
     "execution_count": 372,
     "metadata": {},
     "output_type": "execute_result"
    }
   ],
   "source": [
    "S = [['p','-q'], ['-r'], ['-r','p'], ['-p','r']]\n",
    "l = '-r'\n",
    "eliminar_literal(S,l)"
   ]
  },
  {
   "cell_type": "code",
   "execution_count": 373,
   "metadata": {},
   "outputs": [
    {
     "data": {
      "text/plain": [
       "{'r': False}"
      ]
     },
     "execution_count": 373,
     "metadata": {},
     "output_type": "execute_result"
    }
   ],
   "source": [
    "I = {}\n",
    "l = '-r'\n",
    "extender_I(I, l)"
   ]
  },
  {
   "cell_type": "markdown",
   "metadata": {},
   "source": [
    "---"
   ]
  },
  {
   "cell_type": "markdown",
   "metadata": {},
   "source": [
    "# Unit propagation <a class=\"anchor\" id=\"unit\"></a>\n",
    "\n",
    "([Volver al inicio](#inicio))\n",
    "\n",
    "Mediante las funciones auxiliares podemos implementar la función `unit_propagate`."
   ]
  },
  {
   "cell_type": "code",
   "execution_count": 374,
   "metadata": {},
   "outputs": [],
   "source": [
    "def unit_propagate(S, I):\n",
    "    '''Realiza propagación de cláusulas unitarias.\n",
    "    Input:\n",
    "        - S: Conjunto de cláusulas (lista de listas).\n",
    "        - I: Interpretación actual (diccionario).\n",
    "    Output:\n",
    "        - S simplificado después de propagar unidades.\n",
    "        - I actualizada con literales asignados.\n",
    "    '''\n",
    "    while [] not in S:  # Mientras no haya cláusula vacía\n",
    "        unidad_encontrada = False\n",
    "        for clausula in S:\n",
    "            if len(clausula) == 1:  # Cláusula unitaria\n",
    "                l = clausula[0]\n",
    "                S = eliminar_literal(S, l)  # Eliminar cláusulas con l y complementos\n",
    "                I = extender_I(I, l)       # Extender la interpretación\n",
    "                unidad_encontrada = True\n",
    "                break  # Reiniciar búsqueda con S modificado\n",
    "        if not unidad_encontrada:\n",
    "            break  # No hay más unidades\n",
    "    return S, I"
   ]
  },
  {
   "cell_type": "markdown",
   "metadata": {},
   "source": [
    "Comprobamos el funcionamiento mediante el ejemplo de las diapositivas:"
   ]
  },
  {
   "cell_type": "code",
   "execution_count": 375,
   "metadata": {},
   "outputs": [
    {
     "data": {
      "text/plain": [
       "([['p', '-pq'], ['-q', 'r', 's'], ['r', 't'], ['p', 's', '-t'], ['-r', 'u']],\n",
       " {})"
      ]
     },
     "execution_count": 375,
     "metadata": {},
     "output_type": "execute_result"
    }
   ],
   "source": [
    "S = [['p','-p''q'], ['-q','r','s'], ['r','t'], ['p','s','-t'], ['-r','u']]\n",
    "I = {}\n",
    "unit_propagate(S,I)"
   ]
  },
  {
   "cell_type": "markdown",
   "metadata": {},
   "source": [
    "---"
   ]
  },
  {
   "cell_type": "markdown",
   "metadata": {},
   "source": [
    "# DPLL <a class=\"anchor\" id=\"dpll\"></a>\n",
    "\n",
    "([Volver al inicio](#inicio))\n",
    "\n",
    "Presentamos ahora el algoritmo DPLL.\n",
    "\n",
    "<img src=\"./img/dpll.png\" width=\"auto\"/>"
   ]
  },
  {
   "cell_type": "markdown",
   "metadata": {},
   "source": [
    "**Ejercicio 2:**\n",
    "\n",
    "Implemente el algoritmo DPLL."
   ]
  },
  {
   "cell_type": "code",
   "execution_count": 378,
   "metadata": {},
   "outputs": [],
   "source": [
    "\"\"\"from random import choice\n",
    "\n",
    "def dpll(S, I):\n",
    "    # Aplicar unit propagation\n",
    "    S, I = unit_propagate(S, I)\n",
    "    \n",
    "    if not S:\n",
    "        return \"Instisfacible\", None\n",
    "    # Si hay cláusula vacía, es insatisfacible\n",
    "    if [] in S:\n",
    "        return \"Satisfacible\", I\n",
    "    \n",
    "    \n",
    "    # Seleccionar un literal no asignado\n",
    "    literales = {lit for clause in S for lit in clause}\n",
    "    l = choice(list(literales))\n",
    "    lc = complemento(l)\n",
    "    \n",
    "    # Probar con el literal l\n",
    "    S1 = eliminar_literal(S, l)\n",
    "    I1 = extender_I(I.copy(), l)\n",
    "    resultado, modelo = dpll(S1, I1)\n",
    "    \n",
    "    if resultado == \"Satisfacible\":\n",
    "        return resultado, modelo\n",
    "    else:\n",
    "        # Probar con el complemento de l\n",
    "        S2 = eliminar_literal(S, lc)\n",
    "        I2 = extender_I(I.copy(), lc)\n",
    "        return dpll(S2, I2)\"\"\"\n",
    "from random import choice\n",
    "def dpll(S, I):\n",
    "    \"\"\"\n",
    "    Algoritmo DPLL para determinar la satisfacibilidad de una fórmula en CNF.\n",
    "    S: lista de cláusulas (listas de literales)\n",
    "    I: interpretación parcial (diccionario)\n",
    "    \"\"\"\n",
    "    # 3. Simplificación: unit propagation\n",
    "\n",
    "\n",
    "    # 1. Si todas las cláusulas están satisfechas\n",
    "    if S == []:\n",
    "        return \"Satisfacible\", I\n",
    "    \n",
    "    # 2. Si hay una cláusula vacía, la fórmula no es satisfacible bajo I\n",
    "    if [] in S:\n",
    "        return \"Instisfacible\", None\n",
    "    \n",
    "    S, I = unit_propagate(S, I)\n",
    "    # 4. Seleccionar un literal no asignado arbitrario\n",
    "    literales = {lit for clause in S for lit in clause}\n",
    "    l = choice(list(literales))\n",
    "    lc = complemento(l)\n",
    "\n",
    "    S1 = eliminar_literal(S, l)\n",
    "    I1 = extender_I(I.copy(), l)\n",
    "    resultado, modelo = dpll(S1, I1)\n",
    "\n",
    "    if resultado == \"Satisfacible\":\n",
    "        return resultado, modelo\n",
    "    else:\n",
    "        # Probar con el complemento de l\n",
    "        S2 = eliminar_literal(S, lc)\n",
    "        I2 = extender_I(I.copy(), lc)\n",
    "        return dpll(S2, I2)"
   ]
  },
  {
   "cell_type": "markdown",
   "metadata": {},
   "source": [
    "Pruebe su respuesta con los siguientes ejemplos:\n",
    "\n",
    "1. `S = [['r'], ['p', '-r'], ['q', '-r'], ['-p', '-q', 'r']]` \n",
    "\n",
    "Solución:  $I\\,{=}\\,\\{r: True, p: True, q: True\\}$.\n",
    "\n",
    "2. `S=[['s'], ['-r', '-q'], ['r', 'q'], ['p', '-s'], ['r', '-s'], ['-p', '-r', 's']]` \n",
    "\n",
    "Solución: $I\\,{=}\\,\\{s: True, p: True, r: True, q: False\\}$.\n",
    "\n",
    "3. `S = [['s'], ['p','-t'], ['q','-t'], ['-p','-q','t'], ['t','-s'], ['r','-s'], ['-t','-r','s']]` \n",
    "\n",
    "Solución: $I\\,{=}\\,\\{s: True, p: True, r: True, q: False\\}$.\n",
    "\n",
    "4. `S = [['p','-q'],['-p','-q'],['q','r'],['-q''-r'],['-p','-r'],['p','-r']]` \n",
    "\n",
    "Solución: insatisfacible.\n"
   ]
  },
  {
   "cell_type": "code",
   "execution_count": 379,
   "metadata": {},
   "outputs": [
    {
     "ename": "IndexError",
     "evalue": "Cannot choose from an empty sequence",
     "output_type": "error",
     "traceback": [
      "\u001b[31m---------------------------------------------------------------------------\u001b[39m",
      "\u001b[31mIndexError\u001b[39m                                Traceback (most recent call last)",
      "\u001b[36mCell\u001b[39m\u001b[36m \u001b[39m\u001b[32mIn[379]\u001b[39m\u001b[32m, line 3\u001b[39m\n\u001b[32m      1\u001b[39m S = [[\u001b[33m'\u001b[39m\u001b[33mr\u001b[39m\u001b[33m'\u001b[39m], [\u001b[33m'\u001b[39m\u001b[33mp\u001b[39m\u001b[33m'\u001b[39m, \u001b[33m'\u001b[39m\u001b[33m-r\u001b[39m\u001b[33m'\u001b[39m], [\u001b[33m'\u001b[39m\u001b[33mq\u001b[39m\u001b[33m'\u001b[39m, \u001b[33m'\u001b[39m\u001b[33m-r\u001b[39m\u001b[33m'\u001b[39m], [\u001b[33m'\u001b[39m\u001b[33m-p\u001b[39m\u001b[33m'\u001b[39m, \u001b[33m'\u001b[39m\u001b[33m-q\u001b[39m\u001b[33m'\u001b[39m, \u001b[33m'\u001b[39m\u001b[33m-r\u001b[39m\u001b[33m'\u001b[39m]]\n\u001b[32m      2\u001b[39m I = {}\n\u001b[32m----> \u001b[39m\u001b[32m3\u001b[39m \u001b[38;5;28mprint\u001b[39m(\u001b[43mdpll\u001b[49m\u001b[43m(\u001b[49m\u001b[43mS\u001b[49m\u001b[43m,\u001b[49m\u001b[43m \u001b[49m\u001b[43mI\u001b[49m\u001b[43m)\u001b[49m)\n",
      "\u001b[36mCell\u001b[39m\u001b[36m \u001b[39m\u001b[32mIn[378]\u001b[39m\u001b[32m, line 52\u001b[39m, in \u001b[36mdpll\u001b[39m\u001b[34m(S, I)\u001b[39m\n\u001b[32m     50\u001b[39m \u001b[38;5;66;03m# 4. Seleccionar un literal no asignado arbitrario\u001b[39;00m\n\u001b[32m     51\u001b[39m literales = {lit \u001b[38;5;28;01mfor\u001b[39;00m clause \u001b[38;5;129;01min\u001b[39;00m S \u001b[38;5;28;01mfor\u001b[39;00m lit \u001b[38;5;129;01min\u001b[39;00m clause}\n\u001b[32m---> \u001b[39m\u001b[32m52\u001b[39m l = \u001b[43mchoice\u001b[49m\u001b[43m(\u001b[49m\u001b[38;5;28;43mlist\u001b[39;49m\u001b[43m(\u001b[49m\u001b[43mliterales\u001b[49m\u001b[43m)\u001b[49m\u001b[43m)\u001b[49m\n\u001b[32m     53\u001b[39m lc = complemento(l)\n\u001b[32m     55\u001b[39m S1 = eliminar_literal(S, l)\n",
      "\u001b[36mFile \u001b[39m\u001b[32mc:\\Users\\USUARIO\\AppData\\Local\\Programs\\Python\\Python313\\Lib\\random.py:351\u001b[39m, in \u001b[36mRandom.choice\u001b[39m\u001b[34m(self, seq)\u001b[39m\n\u001b[32m    348\u001b[39m \u001b[38;5;66;03m# As an accommodation for NumPy, we don't use \"if not seq\"\u001b[39;00m\n\u001b[32m    349\u001b[39m \u001b[38;5;66;03m# because bool(numpy.array()) raises a ValueError.\u001b[39;00m\n\u001b[32m    350\u001b[39m \u001b[38;5;28;01mif\u001b[39;00m \u001b[38;5;129;01mnot\u001b[39;00m \u001b[38;5;28mlen\u001b[39m(seq):\n\u001b[32m--> \u001b[39m\u001b[32m351\u001b[39m     \u001b[38;5;28;01mraise\u001b[39;00m \u001b[38;5;167;01mIndexError\u001b[39;00m(\u001b[33m'\u001b[39m\u001b[33mCannot choose from an empty sequence\u001b[39m\u001b[33m'\u001b[39m)\n\u001b[32m    352\u001b[39m \u001b[38;5;28;01mreturn\u001b[39;00m seq[\u001b[38;5;28mself\u001b[39m._randbelow(\u001b[38;5;28mlen\u001b[39m(seq))]\n",
      "\u001b[31mIndexError\u001b[39m: Cannot choose from an empty sequence"
     ]
    }
   ],
   "source": [
    "S = [['r'], ['p', '-r'], ['q', '-r'], ['-p', '-q', '-r']]\n",
    "I = {}\n",
    "print(dpll(S, I))"
   ]
  },
  {
   "cell_type": "code",
   "execution_count": 380,
   "metadata": {},
   "outputs": [
    {
     "data": {
      "text/plain": [
       "('Instisfacible', None)"
      ]
     },
     "execution_count": 380,
     "metadata": {},
     "output_type": "execute_result"
    }
   ],
   "source": [
    "S = [['s'], ['-r', '-q'], ['r', 'q'], ['p', '-s'], ['r', '-s'], ['-p', '-r', '-s']]\n",
    "I = {}\n",
    "dpll(S,I)"
   ]
  },
  {
   "cell_type": "code",
   "execution_count": 381,
   "metadata": {},
   "outputs": [
    {
     "data": {
      "text/plain": [
       "('Instisfacible', None)"
      ]
     },
     "execution_count": 381,
     "metadata": {},
     "output_type": "execute_result"
    }
   ],
   "source": [
    "S = [['s'], ['p', '-t'], ['q', '-t'], ['-p', '-q', '-t'], ['t', '-s'], ['r', '-s'], ['-t', '-r', '-s']]\n",
    "I = {}\n",
    "dpll(S, I)"
   ]
  },
  {
   "cell_type": "code",
   "execution_count": null,
   "metadata": {},
   "outputs": [
    {
     "ename": "IndexError",
     "evalue": "Cannot choose from an empty sequence",
     "output_type": "error",
     "traceback": [
      "\u001b[31m---------------------------------------------------------------------------\u001b[39m",
      "\u001b[31mIndexError\u001b[39m                                Traceback (most recent call last)",
      "\u001b[36mCell\u001b[39m\u001b[36m \u001b[39m\u001b[32mIn[369]\u001b[39m\u001b[32m, line 3\u001b[39m\n\u001b[32m      1\u001b[39m S = [[\u001b[33m'\u001b[39m\u001b[33mp\u001b[39m\u001b[33m'\u001b[39m, \u001b[33m'\u001b[39m\u001b[33m-q\u001b[39m\u001b[33m'\u001b[39m], [\u001b[33m'\u001b[39m\u001b[33m-p\u001b[39m\u001b[33m'\u001b[39m, \u001b[33m'\u001b[39m\u001b[33m-q\u001b[39m\u001b[33m'\u001b[39m], [\u001b[33m'\u001b[39m\u001b[33mq\u001b[39m\u001b[33m'\u001b[39m, \u001b[33m'\u001b[39m\u001b[33m-r\u001b[39m\u001b[33m'\u001b[39m], [\u001b[33m'\u001b[39m\u001b[33m-q\u001b[39m\u001b[33m'\u001b[39m, \u001b[33m'\u001b[39m\u001b[33m-r\u001b[39m\u001b[33m'\u001b[39m], [\u001b[33m'\u001b[39m\u001b[33m-p\u001b[39m\u001b[33m'\u001b[39m, \u001b[33m'\u001b[39m\u001b[33m-r\u001b[39m\u001b[33m'\u001b[39m], [\u001b[33m'\u001b[39m\u001b[33mp\u001b[39m\u001b[33m'\u001b[39m, \u001b[33m'\u001b[39m\u001b[33m-r\u001b[39m\u001b[33m'\u001b[39m]]\n\u001b[32m      2\u001b[39m I = {}\n\u001b[32m----> \u001b[39m\u001b[32m3\u001b[39m \u001b[43mdpll\u001b[49m\u001b[43m(\u001b[49m\u001b[43mS\u001b[49m\u001b[43m,\u001b[49m\u001b[43m \u001b[49m\u001b[43mI\u001b[49m\u001b[43m)\u001b[49m\n",
      "\u001b[36mCell\u001b[39m\u001b[36m \u001b[39m\u001b[32mIn[365]\u001b[39m\u001b[32m, line 57\u001b[39m, in \u001b[36mdpll\u001b[39m\u001b[34m(S, I)\u001b[39m\n\u001b[32m     55\u001b[39m S1 = eliminar_literal(S, l)\n\u001b[32m     56\u001b[39m I1 = extender_I(I.copy(), l)\n\u001b[32m---> \u001b[39m\u001b[32m57\u001b[39m resultado, modelo = \u001b[43mdpll\u001b[49m\u001b[43m(\u001b[49m\u001b[43mS1\u001b[49m\u001b[43m,\u001b[49m\u001b[43m \u001b[49m\u001b[43mI1\u001b[49m\u001b[43m)\u001b[49m\n\u001b[32m     59\u001b[39m \u001b[38;5;28;01mif\u001b[39;00m resultado == \u001b[33m\"\u001b[39m\u001b[33mSatisfacible\u001b[39m\u001b[33m\"\u001b[39m:\n\u001b[32m     60\u001b[39m     \u001b[38;5;28;01mreturn\u001b[39;00m resultado, modelo\n",
      "\u001b[36mCell\u001b[39m\u001b[36m \u001b[39m\u001b[32mIn[365]\u001b[39m\u001b[32m, line 57\u001b[39m, in \u001b[36mdpll\u001b[39m\u001b[34m(S, I)\u001b[39m\n\u001b[32m     55\u001b[39m S1 = eliminar_literal(S, l)\n\u001b[32m     56\u001b[39m I1 = extender_I(I.copy(), l)\n\u001b[32m---> \u001b[39m\u001b[32m57\u001b[39m resultado, modelo = \u001b[43mdpll\u001b[49m\u001b[43m(\u001b[49m\u001b[43mS1\u001b[49m\u001b[43m,\u001b[49m\u001b[43m \u001b[49m\u001b[43mI1\u001b[49m\u001b[43m)\u001b[49m\n\u001b[32m     59\u001b[39m \u001b[38;5;28;01mif\u001b[39;00m resultado == \u001b[33m\"\u001b[39m\u001b[33mSatisfacible\u001b[39m\u001b[33m\"\u001b[39m:\n\u001b[32m     60\u001b[39m     \u001b[38;5;28;01mreturn\u001b[39;00m resultado, modelo\n",
      "\u001b[36mCell\u001b[39m\u001b[36m \u001b[39m\u001b[32mIn[365]\u001b[39m\u001b[32m, line 52\u001b[39m, in \u001b[36mdpll\u001b[39m\u001b[34m(S, I)\u001b[39m\n\u001b[32m     50\u001b[39m \u001b[38;5;66;03m# 4. Seleccionar un literal no asignado arbitrario\u001b[39;00m\n\u001b[32m     51\u001b[39m literales = {lit \u001b[38;5;28;01mfor\u001b[39;00m clause \u001b[38;5;129;01min\u001b[39;00m S \u001b[38;5;28;01mfor\u001b[39;00m lit \u001b[38;5;129;01min\u001b[39;00m clause}\n\u001b[32m---> \u001b[39m\u001b[32m52\u001b[39m l = \u001b[43mchoice\u001b[49m\u001b[43m(\u001b[49m\u001b[38;5;28;43mlist\u001b[39;49m\u001b[43m(\u001b[49m\u001b[43mliterales\u001b[49m\u001b[43m)\u001b[49m\u001b[43m)\u001b[49m\n\u001b[32m     53\u001b[39m lc = complemento(l)\n\u001b[32m     55\u001b[39m S1 = eliminar_literal(S, l)\n",
      "\u001b[36mFile \u001b[39m\u001b[32mc:\\Users\\USUARIO\\AppData\\Local\\Programs\\Python\\Python313\\Lib\\random.py:351\u001b[39m, in \u001b[36mRandom.choice\u001b[39m\u001b[34m(self, seq)\u001b[39m\n\u001b[32m    348\u001b[39m \u001b[38;5;66;03m# As an accommodation for NumPy, we don't use \"if not seq\"\u001b[39;00m\n\u001b[32m    349\u001b[39m \u001b[38;5;66;03m# because bool(numpy.array()) raises a ValueError.\u001b[39;00m\n\u001b[32m    350\u001b[39m \u001b[38;5;28;01mif\u001b[39;00m \u001b[38;5;129;01mnot\u001b[39;00m \u001b[38;5;28mlen\u001b[39m(seq):\n\u001b[32m--> \u001b[39m\u001b[32m351\u001b[39m     \u001b[38;5;28;01mraise\u001b[39;00m \u001b[38;5;167;01mIndexError\u001b[39;00m(\u001b[33m'\u001b[39m\u001b[33mCannot choose from an empty sequence\u001b[39m\u001b[33m'\u001b[39m)\n\u001b[32m    352\u001b[39m \u001b[38;5;28;01mreturn\u001b[39;00m seq[\u001b[38;5;28mself\u001b[39m._randbelow(\u001b[38;5;28mlen\u001b[39m(seq))]\n",
      "\u001b[31mIndexError\u001b[39m: Cannot choose from an empty sequence"
     ]
    }
   ],
   "source": [
    "S = [['p', '-q'], ['-p', '-q'], ['q', '-r'], ['-q', '-r'], ['-p', '-r'], ['p', '-r']]\n",
    "I = {}\n",
    "dpll(S, I)"
   ]
  },
  {
   "cell_type": "markdown",
   "metadata": {},
   "source": [
    "---"
   ]
  },
  {
   "cell_type": "markdown",
   "metadata": {},
   "source": [
    "# Solución de problemas <a class=\"anchor\" id=\"sat\"></a>\n",
    "\n",
    "([Volver al inicio](#inicio))\n",
    "\n",
    "Retomaremos aquí el problema con el que estudiamos la representación de situaciones. Buscamos llenar todas las casillas en una tabla 2x2 con un número de 0 a 3, sin repetir. Por ejemplo:\n",
    "\n",
    "![ejemplo](img/tabla.png)\n",
    "\n",
    "Tenemos tres restricciones que debemos implementar para resolver el problema:\n",
    "\n",
    "1. Un número sólo está en una casilla.\n",
    "\n",
    "2. No hay más de un número en una casilla.\n",
    "\n",
    "3. Debe haber por lo menos un número en una casilla.\n",
    "\n",
    "Las reglas ya están implementadas en la clase `Rejilla`."
   ]
  },
  {
   "cell_type": "code",
   "execution_count": null,
   "metadata": {},
   "outputs": [],
   "source": [
    "from Problemas import Rejilla\n",
    "from Logica import *"
   ]
  },
  {
   "cell_type": "markdown",
   "metadata": {},
   "source": [
    "Buscamos una solución mediante el DPLL:"
   ]
  },
  {
   "cell_type": "code",
   "execution_count": null,
   "metadata": {},
   "outputs": [
    {
     "name": "stdout",
     "output_type": "stream",
     "text": [
      "CPU times: total: 31.2 ms\n",
      "Wall time: 29.9 ms\n"
     ]
    },
    {
     "data": {
      "image/png": "[encoded data removed]",
      "text/plain": [
       "<Figure size 200x200 with 1 Axes>"
      ]
     },
     "metadata": {},
     "output_type": "display_data"
    }
   ],
   "source": [
    "%%time\n",
    "r = Rejilla(N=2, M=2)\n",
    "A = Ytoria(r.reglas)\n",
    "S = tseitin(A)\n",
    "S, I = dpll(S, {})\n",
    "if I != None:\n",
    "    r.visualizar(I)\n",
    "else:\n",
    "    print('¡No hay solución!')"
   ]
  },
  {
   "cell_type": "markdown",
   "metadata": {},
   "source": [
    "Vemos que se obtiene una respuesta y que el algoritmo es bastante rápido."
   ]
  },
  {
   "cell_type": "markdown",
   "metadata": {},
   "source": [
    "---"
   ]
  }
 ],
 "metadata": {
  "kernelspec": {
   "display_name": "Python 3",
   "language": "python",
   "name": "python3"
  },
  "language_info": {
   "codemirror_mode": {
    "name": "ipython",
    "version": 3
   },
   "file_extension": ".py",
   "mimetype": "text/x-python",
   "name": "python",
   "nbconvert_exporter": "python",
   "pygments_lexer": "ipython3",
   "version": "3.13.3"
  }
 },
 "nbformat": 4,
 "nbformat_minor": 4
}
