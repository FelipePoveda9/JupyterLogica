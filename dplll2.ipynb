{
 "cells": [
  {
   "cell_type": "code",
   "execution_count": null,
   "id": "0aced318",
   "metadata": {},
   "outputs": [],
   "source": [
    "def complemento(l):\n",
    "    return l[1:] if l.startswith('-') else '-' + l\n",
    "\n",
    "def extender_I(I, l):\n",
    "    var = l[1:] if l.startswith('-') else l\n",
    "    val = not l.startswith('-')\n",
    "    I1 = I.copy()\n",
    "    I1[var] = val\n",
    "    return I1\n",
    "\n",
    "def eliminar_literal(S, l):\n",
    "    lc = complemento(l)\n",
    "    S1 = []\n",
    "    for c in S:\n",
    "        if l in c:\n",
    "            continue\n",
    "        nueva = [x for x in c if x != lc]\n",
    "        S1.append(nueva)\n",
    "    return S1\n",
    "\n",
    "def unit_propagate(S, I):\n",
    "    cambios = True\n",
    "    while cambios:\n",
    "        cambios = False\n",
    "        unitarios = [c[0] for c in S if len(c) == 1]\n",
    "        for l in unitarios:\n",
    "            if l[1:] if l.startswith('-') else l in I:\n",
    "                continue  # Ya asignado\n",
    "            I = extender_I(I, l)\n",
    "            S = eliminar_literal(S, l)\n",
    "            cambios = True\n",
    "    return S, I\n"
   ]
  },
  {
   "cell_type": "code",
   "execution_count": null,
   "id": "f6c541b8",
   "metadata": {},
   "outputs": [],
   "source": [
    "from random import choice\n",
    "def dpll(S, I):\n",
    "    S, I = unit_propagate(S, I)\n",
    "\n",
    "    if [] in S:\n",
    "        return \"Insatisfacible\", {}\n",
    "\n",
    "    if not S:\n",
    "        return \"Satisfacible\", I\n",
    "\n",
    "    # Elegir un literal no asignado\n",
    "    for c in S:\n",
    "        for l in c:\n",
    "            var = l[1:] if l.startswith('-') else l\n",
    "            if var not in I:\n",
    "                # Intentar con l = True\n",
    "                S1 = eliminar_literal(S, l)\n",
    "                I1 = extender_I(I, l)\n",
    "                r1, I1 = dpll(S1, I1)\n",
    "                if r1 == \"Satisfacible\":\n",
    "                    return r1, I1\n",
    "\n",
    "                # Intentar con complemento(l) = True\n",
    "                lc = complemento(l)\n",
    "                S2 = eliminar_literal(S, lc)\n",
    "                I2 = extender_I(I, lc)\n",
    "                return dpll(S2, I2)\n",
    "    \n",
    "    return \"Insatisfacible\", {}\n"
   ]
  },
  {
   "cell_type": "code",
   "execution_count": null,
   "id": "1b438e36",
   "metadata": {},
   "outputs": [],
   "source": [
    "S1 = [['r'], ['p', '-r'], ['q', '-r'], ['-p', '-q', 'r']]\n",
    "S2 = [['s'], ['-r', '-q'], ['r', 'q'], ['p', '-s'], ['r', '-s'], ['-p', '-r', 's']]\n",
    "S3 = [['s'], ['p', '-t'], ['q', '-t'], ['-p', '-q', '-t'], ['t', '-s'], ['r', '-s'], ['-t', '-r', 's']]\n",
    "S4 = [['p', '-q'], ['-p', '-q'], ['q', '-r'], ['-q', '-r'], ['-p', '-r'], ['p', '-r']]\n",
    "\n",
    "for S in [S1, S2, S3, S4]:\n",
    "    print(dpll(S, {}))"
   ]
  }
 ],
 "metadata": {
  "kernelspec": {
   "display_name": "Python 3",
   "language": "python",
   "name": "python3"
  },
  "language_info": {
   "codemirror_mode": {
    "name": "ipython",
    "version": 3
   },
   "file_extension": ".py",
   "mimetype": "text/x-python",
   "name": "python",
   "nbconvert_exporter": "python",
   "pygments_lexer": "ipython3",
   "version": "3.13.3"
  }
 },
 "nbformat": 4,
 "nbformat_minor": 5
}
